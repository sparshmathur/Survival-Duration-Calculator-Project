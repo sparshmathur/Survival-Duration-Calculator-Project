{
 "cells": [
  {
   "cell_type": "code",
   "execution_count": 1,
   "id": "235422dd-a246-44f2-b3b9-d946bbb29819",
   "metadata": {},
   "outputs": [],
   "source": [
    "#Survival Duration Calculator Project \n",
    "#The objective of the project is to calculate the duration of how long a person lived based on his Age. The duration should be calculated in different time units like Months, Weeks, Days, Hours, Minutes, Seconds\n",
    "#The input to the application is an Age of a person and the output is expected to calculate the duration of time he lived in different time units as selected by the user.\n"
   ]
  },
  {
   "cell_type": "code",
   "execution_count": 22,
   "id": "12c6ed0f-97cf-42c6-95fe-014932aa2f32",
   "metadata": {},
   "outputs": [],
   "source": [
    "import numpy as np # linear algebra\n",
    "import pandas as pd"
   ]
  },
  {
   "cell_type": "code",
   "execution_count": 23,
   "id": "cc672af4-6a8a-4f39-807e-c33fbdf7e1f3",
   "metadata": {},
   "outputs": [
    {
     "name": "stdin",
     "output_type": "stream",
     "text": [
      "Input Age 25\n"
     ]
    },
    {
     "name": "stdout",
     "output_type": "stream",
     "text": [
      "Your Age is:  25\n",
      "Now let's see how much time you've left\n"
     ]
    }
   ],
   "source": [
    "#we need to change the type from string to integer to can use it in calculation\n",
    "age = int(input(\"Input Age\"))\n",
    "print(\"Your Age is: \",age)\n",
    "print(\"Now let's see how much time you've left\")"
   ]
  },
  {
   "cell_type": "code",
   "execution_count": 24,
   "id": "8e2d0f2d-298c-4b63-82d0-68597d3c2ae6",
   "metadata": {},
   "outputs": [],
   "source": [
    "the_rest = 100 - age"
   ]
  },
  {
   "cell_type": "code",
   "execution_count": 27,
   "id": "9a5cd176-aff2-49cf-8515-af55391ddca4",
   "metadata": {},
   "outputs": [],
   "source": [
    "#number of Minutes that he will live\n",
    "mins = the_rest * 525600\n",
    "#number of Hours that he will live\n",
    "hours = the_rest * 8760\n",
    "#number of days that he will live\n",
    "days = the_rest * 365\n",
    "#number of weeks that he will live\n",
    "weeks = the_rest * 52\n",
    "#number of months that he will live\n",
    "months = the_rest * 12\n",
    "#number of years that he will live\n",
    "years = the_rest"
   ]
  },
  {
   "cell_type": "code",
   "execution_count": 28,
   "id": "d3bc64d9-13db-48e9-b5b4-fc0081e26ffc",
   "metadata": {},
   "outputs": [
    {
     "name": "stdout",
     "output_type": "stream",
     "text": [
      "You have 39420000 mins, 657000 hours, 27375 days , 3900 weeks , 900 months and 75 years are left\n"
     ]
    }
   ],
   "source": [
    "#now we can print the days , weeks and months that he will live until reach 100 years \n",
    "#we use \"f\" to change type\n",
    "print(f\"You have {mins} mins, {hours} hours, {days} days , {weeks} weeks , {months} months and {years} years are left\")"
   ]
  },
  {
   "cell_type": "code",
   "execution_count": null,
   "id": "80d6d236-3f47-4993-a8cf-8a5368d42d5f",
   "metadata": {},
   "outputs": [],
   "source": []
  },
  {
   "cell_type": "code",
   "execution_count": null,
   "id": "c21bcec6-33f9-4da5-9450-ca0bc9beaf7b",
   "metadata": {},
   "outputs": [],
   "source": []
  },
  {
   "cell_type": "code",
   "execution_count": null,
   "id": "7c3235d8-6101-4981-8cd3-d4ccb172687a",
   "metadata": {},
   "outputs": [],
   "source": []
  },
  {
   "cell_type": "code",
   "execution_count": null,
   "id": "fccac713-1a6b-45d6-bd74-9904def1b072",
   "metadata": {},
   "outputs": [],
   "source": []
  }
 ],
 "metadata": {
  "kernelspec": {
   "display_name": "Python 3 (ipykernel)",
   "language": "python",
   "name": "python3"
  },
  "language_info": {
   "codemirror_mode": {
    "name": "ipython",
    "version": 3
   },
   "file_extension": ".py",
   "mimetype": "text/x-python",
   "name": "python",
   "nbconvert_exporter": "python",
   "pygments_lexer": "ipython3",
   "version": "3.11.7"
  }
 },
 "nbformat": 4,
 "nbformat_minor": 5
}
